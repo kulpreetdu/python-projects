{
 "cells": [
  {
   "cell_type": "code",
   "execution_count": 17,
   "metadata": {
    "scrolled": true
   },
   "outputs": [
    {
     "name": "stdout",
     "output_type": "stream",
     "text": [
      "ENTER THE IP ADDRESS1.2.s.3\n",
      "INVALID IP ADDRESS ENTERED\n"
     ]
    }
   ],
   "source": [
    "#to check for valid ip address using function\n",
    "def check_ip(str_ip):\n",
    "    str_msg=\" \"\n",
    "    ch=0\n",
    "    list_parts_ip=str_ip.split(\":\")\n",
    "    if(len(list_parts_ip)!=4):\n",
    "        str_msg=\"invalid ip address\"\n",
    "        ch=0\n",
    "    else:\n",
    "        for i in list_parts_ip:\n",
    "            if(i.isnumeric()):\n",
    "                if(0<=int(i)<=255):\n",
    "                    ch+=1\n",
    "            else:\n",
    "                str_msg=\"INVALID IP ADDRESS ENTERED\"\n",
    "                break\n",
    "    if(ch==4):\n",
    "        str_msg=\"ENTERED VALID IP ADDRESS\"\n",
    "    return str_msg\n",
    "str_ip=input(\"ENTER THE IP ADDRESS\")\n",
    "msg1=check_ip(str_ip)\n",
    "print(msg1)\n"
   ]
  },
  {
   "cell_type": "code",
   "execution_count": 16,
   "metadata": {},
   "outputs": [
    {
     "name": "stdout",
     "output_type": "stream",
     "text": [
      "ENTER THE IP ADDRESS3.5.7\n",
      "invalid ip address\n"
     ]
    }
   ],
   "source": [
    "#to check for valid ip address without using functions \n",
    "str_ip=input(\"ENTER THE IP ADDRESS\")\n",
    "check=0\n",
    "list_parts_ip=str_ip.split(\":\")\n",
    "if(len(list_parts_ip)!=4):\n",
    "    print(\"invalid ip address\")\n",
    "    check=0\n",
    "else:\n",
    "    for i in list_parts_ip:\n",
    "        if(i.isnumeric()):\n",
    "            if(0<=int(i)<=255):\n",
    "                check+=1\n",
    "        else:\n",
    "            print(\"INVALID IP ADDRESS ENTERED\")\n",
    "            break\n",
    "if(check==4):\n",
    "    print(\"ENTERED VALID IP ADDRESS\")\n"
   ]
  },
  {
   "cell_type": "code",
   "execution_count": 13,
   "metadata": {},
   "outputs": [
    {
     "name": "stdout",
     "output_type": "stream",
     "text": [
      "4\n",
      "5\n",
      "9\n"
     ]
    }
   ],
   "source": []
  },
  {
   "cell_type": "code",
   "execution_count": null,
   "metadata": {},
   "outputs": [],
   "source": []
  }
 ],
 "metadata": {
  "kernelspec": {
   "display_name": "Python 3",
   "language": "python",
   "name": "python3"
  },
  "language_info": {
   "codemirror_mode": {
    "name": "ipython",
    "version": 3
   },
   "file_extension": ".py",
   "mimetype": "text/x-python",
   "name": "python",
   "nbconvert_exporter": "python",
   "pygments_lexer": "ipython3",
   "version": "3.7.0"
  }
 },
 "nbformat": 4,
 "nbformat_minor": 2
}
